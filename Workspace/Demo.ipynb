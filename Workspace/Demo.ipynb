{
 "cells": [
  {
   "cell_type": "group",
   "height": 401,
   "id": "group_yysj3jgx",
   "metadata": {},
   "outputs": [],
   "position": {
    "x": 0,
    "y": 1.1403613451793846
   },
   "successors": [
    "group_txtzcr2b",
    "group_ps4q682c"
   ],
   "width": 390
  },
  {
   "cell_type": "group",
   "height": 205,
   "id": "group_txtzcr2b",
   "metadata": {},
   "outputs": [],
   "position": {
    "x": -237.05072123516052,
    "y": 531.7600037169506
   },
   "predecessor": "group_yysj3jgx",
   "width": 428
  },
  {
   "cell_type": "group",
   "height": 202,
   "id": "group_ps4q682c",
   "metadata": {},
   "outputs": [],
   "position": {
    "x": 244.59532762648195,
    "y": 530.5964576665989
   },
   "predecessor": "group_yysj3jgx",
   "successors": [],
   "width": 343
  },
  {
   "cell_type": "code",
   "execution_count": 1,
   "height": 85,
   "id": "node_74350996",
   "metadata": {},
   "outputHeight": 35,
   "outputParent": "group_yysj3jgx",
   "outputPosition": {
    "x": 278.16581478349974,
    "y": 62.25127782475042
   },
   "outputWidth": 35,
   "outputs": [],
   "parentNode": "group_yysj3jgx",
   "position": {
    "x": 53.23622973610097,
    "y": 36.150766694850255
   },
   "source": [
    "a = 1000\n",
    "b = 2000\n",
    "c = [a, b]"
   ],
   "width": 180
  },
  {
   "cell_type": "code",
   "execution_count": 2,
   "height": 85,
   "id": "node_2a6371b6",
   "metadata": {},
   "outputHeight": 40,
   "outputParent": "group_yysj3jgx",
   "outputPosition": {
    "x": 276.11555921854966,
    "y": 172.18086287214916
   },
   "outputWidth": 68,
   "outputs": [
    {
     "data": {
      "text/plain": [
       "1000\n",
       "[1000, 2000]\n"
      ]
     },
     "isImage": false,
     "output_type": "execute_result"
    }
   ],
   "parentNode": "group_yysj3jgx",
   "position": {
    "x": 52.55281121445097,
    "y": 149.49744435049914
   },
   "source": [
    "print(a)\n",
    "print(c)"
   ],
   "width": 180
  },
  {
   "cell_type": "code",
   "execution_count": 3,
   "height": 85,
   "id": "node_ee9b29c9",
   "metadata": {},
   "outputHeight": 35,
   "outputParent": "group_yysj3jgx",
   "outputPosition": {
    "x": 282.9497444350499,
    "y": 290.31147017934825
   },
   "outputWidth": 35,
   "outputs": [],
   "parentNode": "group_yysj3jgx",
   "position": {
    "x": 50.50255564950086,
    "y": 263.52754052779807
   },
   "source": [
    "import time\n",
    "time.sleep(2)\n",
    "c = True"
   ],
   "width": 180
  },
  {
   "cell_type": "code",
   "execution_count": 4,
   "height": 92,
   "id": "node_qrgjoaiv",
   "metadata": {},
   "outputHeight": 48,
   "outputParent": "group_txtzcr2b",
   "outputPosition": {
    "x": 326.24624044439184,
    "y": 85.46392076722611
   },
   "outputWidth": 50,
   "outputs": [
    {
     "data": {
      "text/plain": [
       "1000\n",
       "True\n"
      ]
     },
     "isImage": false,
     "output_type": "execute_result"
    }
   ],
   "parentNode": "group_txtzcr2b",
   "position": {
    "x": 22.841300798171687,
    "y": 64.33928392705616
   },
   "source": [
    "print(a)\n",
    "print(c)"
   ],
   "width": 254
  },
  {
   "cell_type": "code",
   "execution_count": 4,
   "height": 85,
   "id": "node_o29eq86q",
   "metadata": {},
   "outputHeight": 35,
   "outputParent": "group_ps4q682c",
   "outputPosition": {
    "x": 255.72544769992788,
    "y": 67.62556951221575
   },
   "outputWidth": 35,
   "outputs": [
    {
     "data": {
      "text/plain": [
       "200"
      ]
     },
     "isImage": false,
     "output_type": "execute_result"
    }
   ],
   "parentNode": "group_ps4q682c",
   "position": {
    "x": 19.596841027808466,
    "y": 45.60370102106924
   },
   "source": [
    "c = 200\n",
    "c"
   ],
   "width": 180
  }
 ],
 "metadata": {
  "kernelspec": {
   "display_name": "Python 3 (ipykernel)",
   "language": "python",
   "name": "python3"
  },
  "language_info": {
   "codemirror_mode": {
    "name": "ipython",
    "version": 3
   },
   "file_extension": ".py",
   "mimetype": "text/x-python",
   "name": "python",
   "nbconvert_exporter": "python",
   "pygments_lexer": "ipython3",
   "version": "3.11.3"
  }
 },
 "nbformat": 4,
 "nbformat_minor": 5
}
