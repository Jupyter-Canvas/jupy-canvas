{
 "cells": [
  {
   "cell_type": "group",
   "height": 344,
   "id": "group_jjft74l8",
   "metadata": {},
   "outputs": [],
   "position": {
    "x": 550.953125,
    "y": 286
   },
   "width": 766
  },
  {
   "cell_type": "code",
   "execution_count": 1,
   "height": 85,
   "id": "node_rqxqe35i",
   "metadata": {},
   "outputHeight": 36,
   "outputParent": "group_jjft74l8",
   "outputPosition": {
    "x": 465.6112758317963,
    "y": 142.10089219811192
   },
   "outputWidth": 117,
   "outputs": [
    {
     "data": {
      "text/plain": [
       "I am a demo notebook\n"
      ]
     },
     "isImage": false,
     "output_type": "execute_result"
    }
   ],
   "parentNode": "group_jjft74l8",
   "position": {
    "x": 154.60370049751634,
    "y": 116.80632894315431
   },
   "source": [
    "print(\"I am a demo notebook\")"
   ],
   "width": 245
  }
 ],
 "metadata": {
  "kernelspec": {
   "display_name": "Python 3 (ipykernel)",
   "language": "python",
   "name": "python3"
  },
  "language_info": {
   "codemirror_mode": {
    "name": "ipython",
    "version": 3
   },
   "file_extension": ".py",
   "mimetype": "text/x-python",
   "name": "python",
   "nbconvert_exporter": "python",
   "pygments_lexer": "ipython3",
   "version": "3.11.3"
  }
 },
 "nbformat": 4,
 "nbformat_minor": 5
}
